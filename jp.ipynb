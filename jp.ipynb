{
 "cells": [
  {
   "cell_type": "markdown",
   "id": "34269f37",
   "metadata": {},
   "source": [
    "### 0407 exercise"
   ]
  },
  {
   "cell_type": "markdown",
   "id": "de915bc0",
   "metadata": {},
   "source": [
    "### 1."
   ]
  },
  {
   "cell_type": "code",
   "execution_count": null,
   "id": "bb908495",
   "metadata": {},
   "outputs": [
    {
     "data": {
      "text/plain": [
       "'Good Luck!'"
      ]
     },
     "execution_count": 1,
     "metadata": {},
     "output_type": "execute_result"
    }
   ],
   "source": [
    "# msg = \"Good Luck!\"\n",
    "# msg"
   ]
  },
  {
   "cell_type": "code",
   "execution_count": null,
   "id": "40823e99",
   "metadata": {},
   "outputs": [
    {
     "name": "stdout",
     "output_type": "stream",
     "text": [
      "라면\n",
      "콩나물\n",
      "계란\n",
      "초코파이\n"
     ]
    }
   ],
   "source": [
    "# cart = [\"라면\", \"콩나물\", \"계란\", \"초코파이\"]\n",
    "# cart[0]\n",
    "# cart[-1]\n",
    "# for item in cart:\n",
    "#     print(item)"
   ]
  },
  {
   "cell_type": "code",
   "execution_count": null,
   "id": "570d6811",
   "metadata": {},
   "outputs": [
    {
     "name": "stdout",
     "output_type": "stream",
     "text": [
      "13\n",
      "12\n",
      "0.9381990063108028\n",
      "3\n",
      "6\n",
      "3\n",
      "5\n",
      "5\n",
      "4\n",
      "1\n",
      "4\n",
      "1\n",
      "1\n",
      "4\n"
     ]
    }
   ],
   "source": [
    "# import math\n",
    "# import random\n",
    "\n",
    "# v1 = math.ceil(12.56)\n",
    "# print(v1)\n",
    "# v2 = math.floor(12.56)\n",
    "# print(v2)\n",
    "\n",
    "# v3 = random.random()\n",
    "# print(v3)\n",
    "# v4 = random.randint(1,10)\n",
    "# print(v4)\n",
    "\n",
    "# for i in range(10):\n",
    "#     dice = random.randint(1,6)\n",
    "#     print(dice)\n"
   ]
  },
  {
   "cell_type": "code",
   "execution_count": 1,
   "id": "3bd8c00d",
   "metadata": {},
   "outputs": [],
   "source": [
    "from bs4 import BeautifulSoup as bs\n",
    "\n",
    "html_str = '''\n",
    "<html>\n",
    "    <body>\n",
    "        <div id=\"content\">\n",
    "            <ul class=\"industry\">\n",
    "                <li>AI</li>\n",
    "                <li>BigData</li>\n",
    "                <li>SmartFactory<\\li>\n",
    "            </ul>\n",
    "            <ul class=\"comlang\">\n",
    "                <li>Python</li>\n",
    "                <li>C++</li>\n",
    "                <li>Javascript<\\li>\n",
    "            </ul>\n",
    "        </div>\n",
    "    </body>\n",
    "</html>\n",
    "'''\n",
    "\n",
    "soup = bs(html_str, 'html.parser')"
   ]
  },
  {
   "cell_type": "code",
   "execution_count": 17,
   "id": "0c663426",
   "metadata": {},
   "outputs": [
    {
     "data": {
      "text/plain": [
       "<ul class=\"comlang\">\n",
       "<li>Python</li>\n",
       "<li>C++</li>\n",
       "<li>Javascript&lt;\\li&gt;\n",
       "            </li></ul>"
      ]
     },
     "execution_count": 17,
     "metadata": {},
     "output_type": "execute_result"
    }
   ],
   "source": [
    "tag = soup.find(attrs=\"comlang\")\n",
    "tag\n"
   ]
  },
  {
   "cell_type": "code",
   "execution_count": null,
   "id": "f32595ff",
   "metadata": {},
   "outputs": [
    {
     "name": "stdout",
     "output_type": "stream",
     "text": [
      "<ul class=\"industry\">\n",
      "<li>AI</li>\n",
      "<li>BigData</li>\n",
      "<li>SmartFactory&lt;\\li&gt;\n",
      "            </li></ul>\n",
      "\n",
      "AI\n",
      "BigData\n",
      "SmartFactory<\\li>\n",
      "            \n",
      "[<li>AI</li>, <li>BigData</li>, <li>SmartFactory&lt;\\li&gt;\n",
      "            </li>]\n",
      "<li>BigData</li>\n",
      "BigData\n",
      "<ul class=\"comlang\">\n",
      "<li>Python</li>\n",
      "<li>C++</li>\n",
      "<li>Javascript&lt;\\li&gt;\n",
      "            </li></ul>\n",
      "\n",
      "Python\n",
      "C++\n",
      "Javascript<\\li>\n",
      "            \n"
     ]
    }
   ],
   "source": [
    "first_ul = soup.select_one('ul.industry')\n",
    "print(first_ul)\n",
    "print(first_ul.text)\n",
    "\n",
    "# 클래스가 industry인 ul의 자식 중 li를 가진 태그\n",
    "first_all_li = first_ul.select('ul.industry > li')\n",
    "print(first_all_li)\n",
    "print(first_all_li[1])\n",
    "print(first_all_li[1].text)\n",
    "\n",
    "second_ul = soup.select_one('ul.comlang')\n",
    "print(second_ul)\n",
    "print(second_ul.text)"
   ]
  }
 ],
 "metadata": {
  "kernelspec": {
   "display_name": "python_9",
   "language": "python",
   "name": "python3"
  },
  "language_info": {
   "codemirror_mode": {
    "name": "ipython",
    "version": 3
   },
   "file_extension": ".py",
   "mimetype": "text/x-python",
   "name": "python",
   "nbconvert_exporter": "python",
   "pygments_lexer": "ipython3",
   "version": "3.9.21"
  }
 },
 "nbformat": 4,
 "nbformat_minor": 5
}
