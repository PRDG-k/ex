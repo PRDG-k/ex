{
 "cells": [
  {
   "cell_type": "code",
   "execution_count": 1,
   "id": "ea754476",
   "metadata": {},
   "outputs": [
    {
     "name": "stdout",
     "output_type": "stream",
     "text": [
      "<li class=\"public\">\n",
      "<a href=\"//yeyak.seoul.go.kr\" onclick=\"action_logging({tr_code:'service01'});\" target=\"_blank\" title=\"새창열림\"><i class=\"ico_service\"></i>공공서비스예약</a>\n",
      "</li>\n",
      "<li class=\"answer\">\n",
      "<a href=\"//eungdapso.seoul.go.kr\" onclick=\"action_logging({tr_code:'service02'});\" target=\"_blank\" title=\"새창열림\"><i class=\"ico_service\"></i>응답소(민원신고)</a>\n",
      "</li>\n"
     ]
    }
   ],
   "source": [
    "import requests\n",
    "from bs4 import BeautifulSoup as bs\n",
    "\n",
    "url = \"https://www.seoul.go.kr/main/index.jsp\"\n",
    "response = requests.get(url)\n",
    "html = bs(response.text, 'html.parser')\n",
    "\n",
    "first_li = html.select_one('li.public')\n",
    "print(first_li)\n",
    "\n",
    "_li = html.select_one('li.answer')\n",
    "print(_li)"
   ]
  },
  {
   "cell_type": "code",
   "execution_count": 2,
   "id": "c40d4ca7",
   "metadata": {},
   "outputs": [
    {
     "name": "stdout",
     "output_type": "stream",
     "text": [
      "['\\n', <a href=\"//yeyak.seoul.go.kr\" onclick=\"action_logging({tr_code:'service01'});\" target=\"_blank\" title=\"새창열림\"><i class=\"ico_service\"></i>공공서비스예약</a>, '\\n']\n",
      "['\\n', <a href=\"//eungdapso.seoul.go.kr\" onclick=\"action_logging({tr_code:'service02'});\" target=\"_blank\" title=\"새창열림\"><i class=\"ico_service\"></i>응답소(민원신고)</a>, '\\n']\n",
      "['\\n', <a href=\"http://job.seoul.go.kr\" onclick=\"action_logging({tr_code:'service03'});\" target=\"_blank\" title=\"새창열림\"><i class=\"ico_service\"></i>서울일자리</a>, '\\n']\n",
      "['\\n', <a href=\"https://land.seoul.go.kr:444/land/\" onclick=\"action_logging({tr_code:'service04'});\" target=\"_blank\" title=\"새창열림\"><i class=\"ico_service\"></i>부동산정보</a>, '\\n']\n",
      "['\\n', <a href=\"https://slearn.seoul.go.kr/\" onclick=\"action_logging({tr_code:'service05'});\" target=\"_blank\" title=\"새창열림\"><i class=\"ico_service\"></i>서울런</a>, '\\n']\n",
      "['\\n', <a href=\"http://wis.seoul.go.kr\" onclick=\"action_logging({tr_code:'service06'});\" target=\"_blank\" title=\"새창열림\"><i class=\"ico_service\"></i>서울복지포털</a>, '\\n']\n",
      "['\\n', <a href=\"//housing.seoul.go.kr/\" onclick=\"action_logging({tr_code:'service07'});\" target=\"_blank\" title=\"새창열림\"><i class=\"ico_service\"></i>서울주거포털</a>, '\\n']\n",
      "['\\n', <a href=\"https://youth.seoul.go.kr/\" onclick=\"action_logging({tr_code:'service08'});\" target=\"_blank\" title=\"새창열림\"><i class=\"ico_service\"></i>청년몽땅정보통</a>, '\\n']\n",
      "['\\n', <a href=\"https://mediahub.seoul.go.kr/news/newsMain.do?utm_source=main_inner2&amp;utm_medium=icon&amp;utm_campaign=btn_asite\" onclick=\"action_logging({tr_code:'service09'});\" target=\"_blank\" title=\"새창열림\"><i class=\"ico_service\"></i>내 손안에 서울</a>, '\\n']\n",
      "['\\n', <a href=\"https://idea.seoul.go.kr/\" onclick=\"action_logging({tr_code:'service10'});\" target=\"_blank\" title=\"새창열림\"><i class=\"ico_service\"></i>상상대로 서울</a>, '\\n']\n",
      "['\\n', <a href=\"https://sll.seoul.go.kr/main/MainView.do\" onclick=\"action_logging({tr_code:'service11'});\" target=\"_blank\" title=\"새창열림\"><i class=\"ico_service\"></i>평생학습포털</a>, '\\n']\n",
      "['\\n', <a href=\"http://www.smc.seoul.kr\" onclick=\"action_logging({tr_code:'service12'});\" target=\"_blank\" title=\"새창열림\"><i class=\"ico_service\"></i>시의회</a>, '\\n']\n"
     ]
    }
   ],
   "source": [
    "lis = html.select('div.m_service > ul > li')\n",
    "# print(type(lis))\n",
    "for li in lis:\n",
    "    print(li.contents)\n",
    "\n",
    "# print(lis[0].contents)\n",
    "# print(lis[-1].contents)"
   ]
  },
  {
   "cell_type": "code",
   "execution_count": 3,
   "id": "f197b0ad",
   "metadata": {},
   "outputs": [],
   "source": [
    "# lis[0].contents[1].attrs"
   ]
  },
  {
   "cell_type": "code",
   "execution_count": 8,
   "id": "53a5d89e",
   "metadata": {},
   "outputs": [
    {
     "data": {
      "text/plain": [
       "[<li><strong>월/화/목/금/일</strong> <span>10:00 ~ 18:00</span></li>,\n",
       " <li><strong>수/토</strong> <span>10:00 ~ 21:00</span></li>,\n",
       " <li><span>   * 입장 마감은 폐관30분 전까지</span></li>,\n",
       " <li><strong>무료</strong> <span>특별전시는 유료</span></li>]"
      ]
     },
     "execution_count": 8,
     "metadata": {},
     "output_type": "execute_result"
    }
   ],
   "source": [
    "info"
   ]
  },
  {
   "cell_type": "code",
   "execution_count": 10,
   "id": "7330e294",
   "metadata": {},
   "outputs": [
    {
     "name": "stdout",
     "output_type": "stream",
     "text": [
      "요일: 월/화/목/금/일\n",
      "시간: 10:00 ~ 18:00\n",
      "요일: 수/토\n",
      "시간: 10:00 ~ 21:00\n"
     ]
    },
    {
     "ename": "AttributeError",
     "evalue": "'NoneType' object has no attribute 'text'",
     "output_type": "error",
     "traceback": [
      "\u001b[0;31m---------------------------------------------------------------------------\u001b[0m",
      "\u001b[0;31mAttributeError\u001b[0m                            Traceback (most recent call last)",
      "Cell \u001b[0;32mIn[10], line 7\u001b[0m\n\u001b[1;32m      5\u001b[0m info \u001b[38;5;241m=\u001b[39m parser\u001b[38;5;241m.\u001b[39mselect(\u001b[38;5;124m'\u001b[39m\u001b[38;5;124mdiv.info-txt > ul > li\u001b[39m\u001b[38;5;124m'\u001b[39m)\n\u001b[1;32m      6\u001b[0m \u001b[38;5;28;01mfor\u001b[39;00m i \u001b[38;5;129;01min\u001b[39;00m info:\n\u001b[0;32m----> 7\u001b[0m     \u001b[38;5;28mprint\u001b[39m(\u001b[38;5;124mf\u001b[39m\u001b[38;5;124m\"\u001b[39m\u001b[38;5;124m요일: \u001b[39m\u001b[38;5;132;01m{\u001b[39;00mi\u001b[38;5;241m.\u001b[39mselect_one(\u001b[38;5;124m'\u001b[39m\u001b[38;5;124mstrong\u001b[39m\u001b[38;5;124m'\u001b[39m)\u001b[38;5;241m.\u001b[39mtext\u001b[38;5;132;01m}\u001b[39;00m\u001b[38;5;124m\"\u001b[39m)\n\u001b[1;32m      8\u001b[0m     \u001b[38;5;28mprint\u001b[39m(\u001b[38;5;124mf\u001b[39m\u001b[38;5;124m\"\u001b[39m\u001b[38;5;124m시간: \u001b[39m\u001b[38;5;132;01m{\u001b[39;00mi\u001b[38;5;241m.\u001b[39mselect_one(\u001b[38;5;124m'\u001b[39m\u001b[38;5;124mspan\u001b[39m\u001b[38;5;124m'\u001b[39m)\u001b[38;5;241m.\u001b[39mtext\u001b[38;5;132;01m}\u001b[39;00m\u001b[38;5;124m\"\u001b[39m)\n",
      "\u001b[0;31mAttributeError\u001b[0m: 'NoneType' object has no attribute 'text'"
     ]
    }
   ],
   "source": [
    "url = \"https://www.museum.go.kr/MUSEUM/main/index.do\"\n",
    "response = requests.get(url)\n",
    "parser = bs(response.text, 'html.parser')\n",
    "\n",
    "info = parser.select('div.info-txt > ul > li')\n",
    "for i in info:\n",
    "    print(f\"요일: {i.select_one('strong').text}\")\n",
    "    print(f\"시간: {i.select_one('span').text}\")"
   ]
  },
  {
   "cell_type": "code",
   "execution_count": null,
   "id": "883d322e",
   "metadata": {},
   "outputs": [],
   "source": []
  }
 ],
 "metadata": {
  "kernelspec": {
   "display_name": "python_9",
   "language": "python",
   "name": "python3"
  },
  "language_info": {
   "codemirror_mode": {
    "name": "ipython",
    "version": 3
   },
   "file_extension": ".py",
   "mimetype": "text/x-python",
   "name": "python",
   "nbconvert_exporter": "python",
   "pygments_lexer": "ipython3",
   "version": "3.9.21"
  }
 },
 "nbformat": 4,
 "nbformat_minor": 5
}
