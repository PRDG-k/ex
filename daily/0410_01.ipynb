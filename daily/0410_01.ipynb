{
 "cells": [
  {
   "cell_type": "markdown",
   "id": "696f456a",
   "metadata": {},
   "source": [
    "## 환경설정"
   ]
  },
  {
   "cell_type": "code",
   "execution_count": 23,
   "id": "2406996e",
   "metadata": {},
   "outputs": [],
   "source": [
    "import sys\n",
    "import os\n",
    "sys.path.append(os.path.abspath(os.path.join(os.getcwd(), '..')))\n",
    "\n",
    "from utils import *\n",
    "\n",
    "# print(html)"
   ]
  },
  {
   "cell_type": "markdown",
   "id": "481adac3",
   "metadata": {},
   "source": [
    "### KBS NEWS"
   ]
  },
  {
   "cell_type": "code",
   "execution_count": 27,
   "id": "01ec41b6",
   "metadata": {},
   "outputs": [
    {
     "name": "stdout",
     "output_type": "stream",
     "text": [
      "[속보] 코스피시장 매수 사이드카 발동…\n",
      "\n",
      "작년 8월 이후 8개월만\n"
     ]
    }
   ],
   "source": [
    "url = \"https://news.kbs.co.kr/news/pc/main/main.html\"\n",
    "html = get_html(url)\n",
    "\n",
    "news_titles = html.select_one('div.head-line p.title')\n",
    "len(news_titles)\n",
    "\n",
    "titles = [title.text.strip() for title in news_titles]\n",
    "for title in titles:\n",
    "    print(title)\n"
   ]
  },
  {
   "cell_type": "markdown",
   "id": "6acbb001",
   "metadata": {},
   "source": [
    "### QUOTES"
   ]
  },
  {
   "cell_type": "code",
   "execution_count": null,
   "id": "49ea08d0",
   "metadata": {},
   "outputs": [
    {
     "name": "stdout",
     "output_type": "stream",
     "text": [
      "['change', 'deep-thoughts', 'thinking', 'world']\n",
      "['abilities', 'choices']\n",
      "['inspirational', 'life', 'live', 'miracle', 'miracles']\n",
      "['aliteracy', 'books', 'classic', 'humor']\n",
      "['be-yourself', 'inspirational']\n",
      "['adulthood', 'success', 'value']\n",
      "['life', 'love']\n",
      "['edison', 'failure', 'inspirational', 'paraphrased']\n",
      "['misattributed-eleanor-roosevelt']\n",
      "['humor', 'obvious', 'simile']\n"
     ]
    }
   ],
   "source": [
    "class quote:\n",
    "    def __init__(self, text, author, tags):\n",
    "        self.__text: str = text\n",
    "        self.__author: str = author\n",
    "        self.tags: list[str] = tags\n",
    "    \n",
    "    @property\n",
    "    def text(self):\n",
    "        return self.__text\n",
    "    \n",
    "    @text.setter\n",
    "    def text(self, text):\n",
    "        self.__text = text\n",
    "    \n",
    "    @property\n",
    "    def author(self):\n",
    "        return self.__author\n",
    "    \n",
    "    @author.setter\n",
    "    def author(self, author):\n",
    "        self.__author = author\n",
    "\n",
    "    def __str__(self):\n",
    "        return f\"{self.text} by {self.author}\"\n",
    "    \n",
    "    def __repr__(self):\n",
    "        return f\"{self.text} by {self.author}\"\n",
    "\n",
    "url = \"https://quotes.toscrape.com/\"\n",
    "html = get_html(url)\n",
    "quote_list: list[quote] = []\n",
    "quote_list2: list[dict] = []\n",
    "\n",
    "elements = html.select('div.quote')\n",
    "for element in elements:\n",
    "    quote_text = element.select_one('.text').text\n",
    "    quote_author = element.select_one('.author').text\n",
    "    quote_tags = element.select('.tag')\n",
    "    tags = [tag.text for tag in quote_tags]\n",
    "\n",
    "    quote_list.append(quote(text=quote_text, author=quote_author, tags=tags))\n",
    "    quote_list2.append({\"text\": quote_text, \"author\": quote_author, \"tags\": tags})"
   ]
  },
  {
   "cell_type": "markdown",
   "id": "93016b05",
   "metadata": {},
   "source": [
    "### 실습1"
   ]
  },
  {
   "cell_type": "code",
   "execution_count": 69,
   "id": "c375eeaa",
   "metadata": {},
   "outputs": [],
   "source": [
    "import time\n",
    "\n",
    "from selenium import webdriver\n",
    "from selenium.webdriver.chrome.service import Service\n",
    "from webdriver_manager.chrome import ChromeDriverManager\n",
    "\n",
    "service = Service(ChromeDriverManager().install())"
   ]
  },
  {
   "cell_type": "code",
   "execution_count": null,
   "id": "5e3aa773",
   "metadata": {},
   "outputs": [],
   "source": [
    "driver = webdriver.Chrome(service=service)\n",
    "\n",
    "# driver는 컨트롤러\n",
    "driver.get(\"https://naver.com\")\n",
    "driver.maximize_window()\n",
    "time.sleep(1)\n",
    "driver.get(\"https://google.com\")\n",
    "time.sleep(1)\n",
    "driver.back()\n",
    "time.sleep(1)\n",
    "driver.refresh()\n",
    "time.sleep(1)\n",
    "driver.quit()"
   ]
  },
  {
   "cell_type": "markdown",
   "id": "c4cc39c6",
   "metadata": {},
   "source": [
    "### 실습2"
   ]
  },
  {
   "cell_type": "code",
   "execution_count": 71,
   "id": "e47654e3",
   "metadata": {},
   "outputs": [
    {
     "name": "stdout",
     "output_type": "stream",
     "text": [
      "메일\n",
      "카페\n",
      "블로그\n",
      "스토어\n",
      "뉴스\n",
      "증권\n",
      "부동산\n",
      "지도\n",
      "웹툰\n",
      "치지직\n"
     ]
    }
   ],
   "source": [
    "from selenium.webdriver.common.by import By\n",
    "from selenium.webdriver.support.ui import WebDriverWait\n",
    "from selenium.webdriver.support import expected_conditions as EC\n",
    "\n",
    "driver = webdriver.Chrome(service=service)\n",
    "driver.get(\"https://naver.com\")\n",
    "\n",
    "try:\n",
    "    elements = WebDriverWait(driver, 10).until(\n",
    "        EC.presence_of_all_elements_located((By.CSS_SELECTOR, '#shortcutArea span.service_name'))\n",
    "    )\n",
    "\n",
    "    for element in elements:\n",
    "        print(element.text)\n",
    "    \n",
    "except Exception as e:\n",
    "    print(e)\n",
    "    driver.quit()\n",
    "\n",
    "time.sleep(60)\n",
    "driver.quit()"
   ]
  },
  {
   "cell_type": "code",
   "execution_count": 72,
   "id": "e3a04252",
   "metadata": {},
   "outputs": [],
   "source": [
    "# from selenium.webdriver.common.by import By\n",
    "# driver = webdriver.Chrome(service=service)\n",
    "\n",
    "# driver.get(\"https://naver.com\")\n",
    "# time.sleep(1)\n",
    "\n",
    "# shortcuts = driver.find_element(By.CSS_SELECTOR, '#shortcutArea')\n",
    "# services = shortcuts.find_elements(By.CSS_SELECTOR, '.service_name')\n",
    "\n",
    "# for service in services:\n",
    "#     print(service.text)\n",
    "\n",
    "# time.sleep(60)\n",
    "# driver.quit()"
   ]
  },
  {
   "cell_type": "markdown",
   "id": "68807f02",
   "metadata": {},
   "source": [
    "### 실습3"
   ]
  },
  {
   "cell_type": "code",
   "execution_count": null,
   "id": "4f6609b3",
   "metadata": {},
   "outputs": [
    {
     "name": "stdout",
     "output_type": "stream",
     "text": [
      "name 'async_quit' is not defined\n"
     ]
    }
   ],
   "source": [
    "import asyncio\n",
    "from utils import *\n",
    "\n",
    "from selenium.webdriver.common.by import By\n",
    "from selenium.webdriver.support.ui import WebDriverWait\n",
    "from selenium.webdriver.support import expected_conditions as EC\n",
    "from selenium.webdriver.remote.webdriver import WebElement\n",
    "\n",
    "\n",
    "async def find_elements(driver: webdriver.Chrome, pattern: str) -> WebElement:\n",
    "    elements = WebDriverWait(driver, 10).until(\n",
    "        EC.presence_of_all_elements_located((By.CSS_SELECTOR, pattern))\n",
    "    )\n",
    "\n",
    "    return elements\n",
    "\n",
    "driver = webdriver.Chrome(service=service)\n",
    "driver.get(\"https://naver.com\")\n",
    "\n",
    "try:\n",
    "    task1 = asyncio.create_task(async_quit(driver, 10))\n",
    "    task2 = asyncio.create_task(find_elements(driver, '#shortcutArea span.service_name'))\n",
    "    \n",
    "    await task1\n",
    "    await task2\n",
    "\n",
    "    services = task2.result()\n",
    "\n",
    "    for service in services:\n",
    "        if service.text == \"뉴스\":\n",
    "            service.click()\n",
    "    \n",
    "    # driver.quit()\n",
    "\n",
    "except Exception as e:\n",
    "    print(e)\n",
    "    driver.quit()"
   ]
  },
  {
   "cell_type": "markdown",
   "id": "48489147",
   "metadata": {},
   "source": [
    "### 실습4"
   ]
  },
  {
   "cell_type": "code",
   "execution_count": null,
   "id": "174dd0b7",
   "metadata": {},
   "outputs": [
    {
     "name": "stdout",
     "output_type": "stream",
     "text": [
      "Async A\n",
      "Async B\n",
      "B finished\n",
      "A finished\n"
     ]
    }
   ],
   "source": [
    "import asyncio\n",
    "# from utils import async_quit\n",
    "\n",
    "from selenium.webdriver.common.by import By\n",
    "from selenium.webdriver.support.ui import WebDriverWait\n",
    "from selenium.webdriver.support import expected_conditions as EC\n",
    "from selenium.webdriver.common.keys import Keys\n",
    "from selenium.webdriver.remote.webdriver import WebElement\n",
    "\n",
    "async def search_query(driver: webdriver.Chrome, keyword: str) -> WebElement:\n",
    "    print(\"Async B\")\n",
    "    element = WebDriverWait(driver, 10).until(\n",
    "        EC.presence_of_element_located((By.CSS_SELECTOR, '#query.search_input'))\n",
    "    )\n",
    "    element.send_keys(keyword)\n",
    "    element.send_keys(Keys.ENTER)\n",
    "    print(\"B finished\")\n",
    "\n",
    "async def async_quit(driver: webdriver.Chrome, t):\n",
    "    print(\"Async A\")\n",
    "    await asyncio.sleep(t)\n",
    "    driver.quit()\n",
    "    print(\"A finished\")\n",
    "\n",
    "driver = webdriver.Chrome(service=service)\n",
    "driver.get(\"https://naver.com\")\n",
    "\n",
    "try:\n",
    "    task1 = asyncio.create_task(async_quit(driver, 10))\n",
    "    task2 = asyncio.create_task(search_query(driver, keyword=\"날씨\"))\n",
    "    \n",
    "    await task1\n",
    "    await task2\n",
    "\n",
    "except Exception as e:\n",
    "    print(e)\n",
    "    driver.quit()"
   ]
  },
  {
   "cell_type": "markdown",
   "id": "0c0f4033",
   "metadata": {},
   "source": [
    "### 실습7"
   ]
  },
  {
   "cell_type": "code",
   "execution_count": null,
   "id": "53b27a67",
   "metadata": {},
   "outputs": [
    {
     "name": "stdout",
     "output_type": "stream",
     "text": [
      "Message: \n",
      "\n",
      "local variable 'element' referenced before assignment\n"
     ]
    }
   ],
   "source": [
    "import asyncio\n",
    "\n",
    "from selenium.webdriver.common.by import By\n",
    "from selenium.webdriver.support.ui import WebDriverWait\n",
    "from selenium.webdriver.support import expected_conditions as EC\n",
    "from selenium.webdriver.common.keys import Keys\n",
    "\n",
    "async def get_review(driver: webdriver.Chrome, name: str) -> str:\n",
    "    search_box = WebDriverWait(driver, 10).until(\n",
    "        EC.presence_of_element_located((By.CSS_SELECTOR, 'div.input_box .input_search'))\n",
    "    )\n",
    "    search_box.send_keys(name)\n",
    "    search_box.send_keys(Keys.ENTER)\n",
    "    \n",
    "    element = WebDriverWait(driver, 10).until(\n",
    "        EC.presence_of_all_elements_located((By.CSS_SELECTOR, '.place_section.no_margin'))\n",
    "    )\n",
    "\n",
    "    print(element)\n",
    "    review = element[0].text\n",
    "    print(review)\n",
    "    \n",
    "    return review\n",
    "\n",
    "async def async_quit(driver: webdriver.Chrome, t):\n",
    "    await asyncio.sleep(t)\n",
    "    driver.quit()\n",
    "\n",
    "driver = webdriver.Chrome(service=service)\n",
    "driver.get(\"https://map.naver.com/\")\n",
    "\n",
    "try:\n",
    "    task1 = asyncio.create_task(async_quit(driver, 20))\n",
    "    task2 = asyncio.create_task(get_review(driver, name=\"보들이쭈꾸미\"))\n",
    "    \n",
    "    await task1\n",
    "    await task2\n",
    "\n",
    "except Exception as e:\n",
    "    print(e)\n",
    "    driver.quit()"
   ]
  }
 ],
 "metadata": {
  "kernelspec": {
   "display_name": "python_9",
   "language": "python",
   "name": "python3"
  },
  "language_info": {
   "codemirror_mode": {
    "name": "ipython",
    "version": 3
   },
   "file_extension": ".py",
   "mimetype": "text/x-python",
   "name": "python",
   "nbconvert_exporter": "python",
   "pygments_lexer": "ipython3",
   "version": "3.9.21"
  }
 },
 "nbformat": 4,
 "nbformat_minor": 5
}
